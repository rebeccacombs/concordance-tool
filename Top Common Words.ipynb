{
 "cells": [
  {
   "cell_type": "code",
   "execution_count": 1,
   "metadata": {},
   "outputs": [],
   "source": [
    "import collections\n",
    "import pandas as pd\n",
    "import matplotlib.pyplot as plt #since pandas was there, this will probably be here as well. \n",
    "%matplotlib inline"
   ]
  },
  {
   "cell_type": "code",
   "execution_count": 2,
   "metadata": {},
   "outputs": [],
   "source": [
    "# Read input file, note the encoding is specified here \n",
    "# It may be different in your text file\n",
    "file = open('/Users/rdc/Desktop/policing.txt', encoding=\"utf8\") #change file path to just FILE-NAME.txt\n",
    "a = file.read()"
   ]
  },
  {
   "cell_type": "code",
   "execution_count": 16,
   "metadata": {},
   "outputs": [],
   "source": [
    "#once again, delete file path and just change to CommonWords.txt\n",
    "stopwords = set(line.strip() for line in open('CommonWords.txt'))\n",
    "stopwords = stopwords.union(set(['the','at','me','am',\"don't\",'i', 'just', 'here', 'off', 'much', 'very', \n",
    "\"such\", \"woman\", \"expression\", \"using\", \"during\", \"http//mcmanuscriptcentralcom/bib\", \"used\", \"null\",\n",
    "\"page\", \"manuscripts\", \"submitted\"])) \n",
    "#you can add as many other stop words as you like "
   ]
  },
  {
   "cell_type": "code",
   "execution_count": 17,
   "metadata": {},
   "outputs": [],
   "source": [
    "# Instantiate a dictionary, and for every word in the file, \n",
    "# Add to the dictionary if it doesn't exist. If it does, increase the count.\n",
    "wordcount = {}"
   ]
  },
  {
   "cell_type": "code",
   "execution_count": 18,
   "metadata": {},
   "outputs": [],
   "source": [
    "# To eliminate duplicates, remember to split by punctuation, and use case demiliters.\n",
    "for word in a.lower().split():\n",
    "    word = word.replace(\".\",\"\")\n",
    "    word = word.replace(\",\",\"\")\n",
    "    word = word.replace(\":\",\"\")\n",
    "    word = word.replace(\"\\\"\",\"\")\n",
    "    word = word.replace(\"/\",\"\")\n",
    "    word = word.replace(\"!\",\"\")\n",
    "    word = word.replace(\"â€œ\",\"\")\n",
    "    word = word.replace(\"â€˜\",\"\")\n",
    "    word = word.replace(\"*\",\"\")\n",
    "    if word not in stopwords:\n",
    "        if word not in wordcount:\n",
    "            wordcount[word] = 1\n",
    "        else:\n",
    "            wordcount[word] += 1"
   ]
  },
  {
   "cell_type": "code",
   "execution_count": 19,
   "metadata": {},
   "outputs": [
    {
     "name": "stdout",
     "output_type": "stream",
     "text": [
      "How many most common words to print: 20\n",
      "\n",
      "OK. The 20 most common words are as follows\n",
      "\n",
      "women :  169\n",
      "modern :  158\n",
      "new :  72\n",
      "china :  70\n",
      "reformist :  42\n",
      "intellectuals :  42\n",
      "intellectual :  32\n",
      "women’s :  32\n",
      "political :  31\n",
      "national :  29\n",
      "education :  26\n",
      "china’s :  24\n",
      "movement :  23\n",
      "nation :  22\n",
      "modernity :  22\n",
      "commercial :  21\n",
      "1933 :  21\n",
      "men :  20\n",
      "traditional :  18\n",
      "gmd :  18\n"
     ]
    }
   ],
   "source": [
    "# Print most common word\n",
    "n_print = int(input(\"How many most common words to print: \"))\n",
    "print(\"\\nOK. The {} most common words are as follows\\n\".format(n_print))\n",
    "word_counter = collections.Counter(wordcount)\n",
    "for word, count in word_counter.most_common(n_print):\n",
    "    print(word, \": \", count)"
   ]
  },
  {
   "cell_type": "code",
   "execution_count": null,
   "metadata": {},
   "outputs": [],
   "source": []
  },
  {
   "cell_type": "code",
   "execution_count": null,
   "metadata": {},
   "outputs": [],
   "source": []
  }
 ],
 "metadata": {
  "kernelspec": {
   "display_name": "Python 3 (ipykernel)",
   "language": "python",
   "name": "python3"
  },
  "language_info": {
   "codemirror_mode": {
    "name": "ipython",
    "version": 3
   },
   "file_extension": ".py",
   "mimetype": "text/x-python",
   "name": "python",
   "nbconvert_exporter": "python",
   "pygments_lexer": "ipython3",
   "version": "3.9.7"
  }
 },
 "nbformat": 4,
 "nbformat_minor": 4
}
