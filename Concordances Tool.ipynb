{
 "cells": [
  {
   "cell_type": "code",
   "execution_count": 9,
   "metadata": {},
   "outputs": [
    {
     "name": "stdout",
     "output_type": "stream",
     "text": [
      "This string has 69126 characters.\n",
      " \n",
      "in Republican China\n",
      "LOUISE EDWARDS\n",
      "Australian Ca\n"
     ]
    }
   ],
   "source": [
    "#copying the line \"theText2Use\" word4word will produce an error... \n",
    "#...since this is in your python folder, you can just say the name of the file like this: \n",
    "#theText2Use = \"FILE-NAME.txt\"\n",
    "def get_file(): \n",
    "    theText2Use = \"/Users/rdc/Desktop/policing.txt\" \n",
    "    with open(theText2Use, \"r\") as fileToRead: \n",
    "        fileRead = fileToRead.read()\n",
    "    \n",
    "print(\"This string has\", len(fileRead), \"characters.\")\n",
    "print(fileRead[:50])"
   ]
  },
  {
   "cell_type": "code",
   "execution_count": 6,
   "metadata": {},
   "outputs": [
    {
     "name": "stdout",
     "output_type": "stream",
     "text": [
      "['in', 'republican', 'china', 'louise', 'edwards', 'australian', 'catholic', 'university', 'during', 'the']\n"
     ]
    }
   ],
   "source": [
    "import re\n",
    "listOfTokens = re.findall(r'\\b\\w[\\w-]*\\b', fileRead.lower())\n",
    "print(listOfTokens[:10])"
   ]
  },
  {
   "cell_type": "code",
   "execution_count": 7,
   "metadata": {},
   "outputs": [
    {
     "name": "stdout",
     "output_type": "stream",
     "text": [
      "What word do you want collocates for? policing\n",
      "How much context do you want? 5\n"
     ]
    }
   ],
   "source": [
    "word2find = input(\"What word do you want collocates for? \").lower() # Ask for the word to search for\n",
    "context = input(\"How much context do you want? \") # This asks for the context of words on either side to grab"
   ]
  },
  {
   "cell_type": "code",
   "execution_count": 8,
   "metadata": {},
   "outputs": [
    {
     "data": {
      "text/plain": [
       "['245: the nation discussions about the policing of the modern chinese woman',\n",
       " '1882: stoler s work on the policing of women s moral conduct',\n",
       " '3093: that rendered intellectuals redundant the policing of the modern woman by',\n",
       " '3116: was a symbolic attempt at policing the boundaries of national governance',\n",
       " '3850: of knowledge that requires constant policing and discipline this was precisely']"
      ]
     },
     "execution_count": 8,
     "metadata": {},
     "output_type": "execute_result"
    }
   ],
   "source": [
    "#this function takes the variables you defined in ln[3] and uses them on FILE-NAME.txt\n",
    "def makeConc(word2conc,list2FindIn,context2Use,concList):  \n",
    "    # Lets get \n",
    "    end = len(list2FindIn)\n",
    "    for location in range(end):\n",
    "        if list2FindIn[location] == word2conc:\n",
    "            # Here we check whether we are at the very beginning or end\n",
    "            if (location - context2Use) < 0:\n",
    "                beginCon = 0\n",
    "            else:\n",
    "                beginCon = location - context2Use\n",
    "                \n",
    "            if (location + context2Use) > end:\n",
    "                endCon = end\n",
    "            else:\n",
    "                endCon = location + context2Use + 1\n",
    "                \n",
    "            theContext = (list2FindIn[beginCon:endCon])\n",
    "            concordanceLine = ' '.join(theContext)\n",
    "            # print(str(location) + \": \" + concordanceLine)\n",
    "            concList.append(str(location) + \": \" + concordanceLine)\n",
    "\n",
    "theConc = []\n",
    "makeConc(word2find,listOfTokens,int(context),theConc)\n",
    "theConc[-5:]"
   ]
  },
  {
   "cell_type": "code",
   "execution_count": 30,
   "metadata": {},
   "outputs": [
    {
     "name": "stdout",
     "output_type": "stream",
     "text": [
      "Done\n"
     ]
    }
   ],
   "source": [
    "nameOfResults = word2find.capitalize() + \".Concordance.txt\"\n",
    "\n",
    "with open(nameOfResults, \"w\") as fileToWrite:\n",
    "    for line in theConc:\n",
    "        fileToWrite.write(line + \"\\n\")\n",
    "    \n",
    "print(\"Done\")"
   ]
  },
  {
   "cell_type": "code",
   "execution_count": 31,
   "metadata": {},
   "outputs": [
    {
     "name": "stdout",
     "output_type": "stream",
     "text": [
      "Analysis.Concordance.txt\r\n",
      "Association.Concordance.txt\r\n",
      "CommonWords.txt\r\n",
      "Concordances Tool.ipynb\r\n",
      "Empirical.Concordance.txt\r\n",
      "Permutation.Concordance.txt\r\n",
      "Screen Shot 2021-02-22 at 4.37.35 PM.png\r\n",
      "Study.Concordance.txt\r\n",
      "Top Common Words.ipynb\r\n",
      "Transcript.Concordance.txt\r\n",
      "thing.txt\r\n",
      "thingy .docx\r\n"
     ]
    }
   ],
   "source": [
    "ls #this shows you what folder(s) the concordance list will be in "
   ]
  },
  {
   "cell_type": "code",
   "execution_count": null,
   "metadata": {},
   "outputs": [],
   "source": []
  }
 ],
 "metadata": {
  "kernelspec": {
   "display_name": "Python 3 (ipykernel)",
   "language": "python",
   "name": "python3"
  },
  "language_info": {
   "codemirror_mode": {
    "name": "ipython",
    "version": 3
   },
   "file_extension": ".py",
   "mimetype": "text/x-python",
   "name": "python",
   "nbconvert_exporter": "python",
   "pygments_lexer": "ipython3",
   "version": "3.9.10"
  }
 },
 "nbformat": 4,
 "nbformat_minor": 4
}
